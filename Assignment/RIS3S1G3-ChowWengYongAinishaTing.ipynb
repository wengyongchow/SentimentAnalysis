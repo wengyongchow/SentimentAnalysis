{
 "cells": [
  {
   "cell_type": "markdown",
   "id": "4dd5d201",
   "metadata": {},
   "source": [
    "# Import Library"
   ]
  },
  {
   "cell_type": "code",
   "execution_count": 1,
   "id": "66de7bb5",
   "metadata": {},
   "outputs": [],
   "source": [
    "# pip install requests beautifulsoup4 lxml\n",
    "# nltk.download()\n",
    "import nltk\n",
    "import requests\n",
    "from bs4 import BeautifulSoup # For crawling web\n",
    "\n",
    "# For Data Frame\n",
    "import pandas as pd\n",
    "\n",
    "# For text pre-processing \n",
    "import re #tokenization\n",
    "import numpy as np #For Array\n",
    "import string \n",
    "from sklearn.feature_extraction.text import TfidfVectorizer\n",
    "from nltk.stem import WordNetLemmatizer\n",
    "\n",
    "# For Machine learning model\n",
    "from sklearn.neighbors import KNeighborsClassifier\n",
    "from sklearn.svm import LinearSVC\n",
    "from sklearn.naive_bayes import MultinomialNB\n",
    "from sklearn.linear_model import LogisticRegression\n",
    "\n",
    "# For calculating \n",
    "from sklearn import metrics\n",
    "from math import sqrt\n",
    "\n",
    "# For plotting graph \n",
    "import matplotlib.pyplot as plt\n",
    "import seaborn as sns\n",
    "from sklearn.metrics import confusion_matrix #For ploting confusion matrix\n",
    "\n",
    "# Creating UI\n",
    "from tkinter import *\n",
    "from tkinter import ttk\n",
    "\n",
    "# For LSTM\n",
    "from tensorflow.keras.preprocessing.sequence import pad_sequences\n",
    "from tensorflow.keras.models import Sequential\n",
    "from tensorflow.keras.layers import LSTM,Dense, Dropout, SpatialDropout1D\n",
    "from tensorflow.keras.layers import Embedding\n",
    "from tensorflow.keras.preprocessing.text import Tokenizer\n",
    "from tensorflow.keras.preprocessing.sequence import pad_sequences"
   ]
  },
  {
   "cell_type": "markdown",
   "id": "53d26d4b",
   "metadata": {},
   "source": [
    "# Functions for web crawling"
   ]
  },
  {
   "cell_type": "code",
   "execution_count": 2,
   "id": "a74fda32",
   "metadata": {},
   "outputs": [],
   "source": [
    "#convert the list to data frame\n",
    "def listToDf(wordList, sentiment):\n",
    "    df = pd.DataFrame(wordList, columns=['sentence'])\n",
    "    labels = sentiment\n",
    "    df['sentiment'] = labels \n",
    "    return df"
   ]
  },
  {
   "cell_type": "code",
   "execution_count": 3,
   "id": "4841e7f5",
   "metadata": {},
   "outputs": [],
   "source": [
    "#extract the element from web \n",
    "def extractWeb(webText):\n",
    "    #find the element we want\n",
    "    table = soup.find('div', attrs = {'class':'entry-content'})\n",
    "    datas = soup.find_all(\"ul\", class_='')\n",
    "\n",
    "    povList = []\n",
    "    # Iterate through all li tags\n",
    "    for data in datas:\n",
    "        # Get text from each tag\n",
    "        if data.text == \" \":\n",
    "            break\n",
    "\n",
    "        if \"\\n\" in data.text:\n",
    "            break\n",
    "\n",
    "        povList.append(data.text)\n",
    "        \n",
    "    return povList"
   ]
  },
  {
   "cell_type": "code",
   "execution_count": 4,
   "id": "5cc1109f",
   "metadata": {},
   "outputs": [],
   "source": [
    "#extract the desired words from page\n",
    "def extractWord(webPage):\n",
    "    \n",
    "    #assign the texts to a variable\n",
    "    webPageText = webPage.text\n",
    "\n",
    "    #removing the comment in the text\n",
    "    rangeOfWordsUsed = webPageText.rfind(';') + 3\n",
    "\n",
    "    #split the texts word by word\n",
    "    wordList = webPageText[rangeOfWordsUsed:-1].split()\n",
    "    \n",
    "    return wordList"
   ]
  },
  {
   "cell_type": "markdown",
   "id": "c81e03ec",
   "metadata": {},
   "source": [
    "# Positive Statements (Chow Weng Yong)"
   ]
  },
  {
   "cell_type": "code",
   "execution_count": 5,
   "id": "ec4baa1e",
   "metadata": {},
   "outputs": [
    {
     "name": "stdout",
     "output_type": "stream",
     "text": [
      "sentence is Crawled. \n"
     ]
    }
   ],
   "source": [
    "#Get access to the website\n",
    "url = \"https://www.wordscoach.com/blog/examples-of-positive-sentences/\"\n",
    "resp = requests.get(url)\n",
    "soup = BeautifulSoup(resp.text, 'html.parser')\n",
    "\n",
    "#check if the website is reachable\n",
    "if resp.status_code == 200:\n",
    "    povList = extractWeb(soup)\n",
    "    povDf = listToDf(povList, 'positive')\n",
    "    print('sentence is Crawled. ')\n",
    "else:\n",
    "    print('The Website is Unreachable !')"
   ]
  },
  {
   "cell_type": "markdown",
   "id": "7dead468",
   "metadata": {},
   "source": [
    "# Negative Statements (Chow Weng Yong)"
   ]
  },
  {
   "cell_type": "code",
   "execution_count": 6,
   "id": "112d3950",
   "metadata": {},
   "outputs": [
    {
     "name": "stdout",
     "output_type": "stream",
     "text": [
      "sentence is Crawled. \n"
     ]
    }
   ],
   "source": [
    "#Get access to the website\n",
    "url = \"https://www.wordscoach.com/blog/examples-of-negative-sentences/\"\n",
    "resp = requests.get(url)\n",
    "soup = BeautifulSoup(resp.text, 'html.parser')\n",
    "#check if the website is reachable\n",
    "if resp.status_code == 200:\n",
    "    negList = extractWeb(soup)\n",
    "    negDf = listToDf(negList, 'negative')\n",
    "    print('sentence is Crawled. ')\n",
    "else:\n",
    "    print('The Website is Unreachable !')"
   ]
  },
  {
   "cell_type": "markdown",
   "id": "e04a8e4e",
   "metadata": {},
   "source": [
    "# Additional dataset (Chow Weng Yong & Ainisha)"
   ]
  },
  {
   "cell_type": "code",
   "execution_count": 7,
   "id": "7b6f9b55",
   "metadata": {},
   "outputs": [
    {
     "name": "stdout",
     "output_type": "stream",
     "text": [
      "positive    5027\n",
      "negative    4972\n",
      "Name: sentiment, dtype: int64\n"
     ]
    }
   ],
   "source": [
    "#first additional dataSet\n",
    "url = 'https://raw.githubusercontent.com/AT212121/url/20d1594fbd7e93d1e236140a1aed369dafa31330/Data%201.csv'\n",
    "data = pd.read_csv(url)\n",
    "\n",
    "csvData = pd.DataFrame(data)\n",
    "data.columns = ['sentence', 'sentiment']\n",
    "\n",
    "#Count number data \n",
    "print(csvData['sentiment'].value_counts())"
   ]
  },
  {
   "cell_type": "code",
   "execution_count": 8,
   "id": "be45221a",
   "metadata": {},
   "outputs": [
    {
     "data": {
      "text/plain": [
       "negative    5124\n",
       "positive    4875\n",
       "Name: sentiment, dtype: int64"
      ]
     },
     "execution_count": 8,
     "metadata": {},
     "output_type": "execute_result"
    }
   ],
   "source": [
    "#second additional dataSet\n",
    "url = 'https://raw.githubusercontent.com/AT212121/url/20d1594fbd7e93d1e236140a1aed369dafa31330/Data%202.csv'\n",
    "data = pd.read_csv(url)\n",
    "\n",
    "csvData2 = pd.DataFrame(data)\n",
    "data.columns = ['sentence', 'sentiment']\n",
    "\n",
    "#Count number data \n",
    "csvData2['sentiment'].value_counts()\n",
    "# csvData2.head()"
   ]
  },
  {
   "cell_type": "code",
   "execution_count": 9,
   "id": "3f956b25",
   "metadata": {},
   "outputs": [
    {
     "data": {
      "text/plain": [
       "positive    5112\n",
       "negative    4887\n",
       "Name: sentiment, dtype: int64"
      ]
     },
     "execution_count": 9,
     "metadata": {},
     "output_type": "execute_result"
    }
   ],
   "source": [
    "#third additional dataSet\n",
    "url = 'https://raw.githubusercontent.com/AT212121/url/20d1594fbd7e93d1e236140a1aed369dafa31330/Data%203.csv'\n",
    "data = pd.read_csv(url)\n",
    "\n",
    "csvData3 = pd.DataFrame(data)\n",
    "data.columns = ['sentence', 'sentiment']\n",
    "\n",
    "#Count number data \n",
    "csvData3['sentiment'].value_counts()\n",
    "# csvData3.head()"
   ]
  },
  {
   "cell_type": "code",
   "execution_count": 10,
   "id": "c12ad72b",
   "metadata": {},
   "outputs": [],
   "source": [
    "# url = 'https://raw.githubusercontent.com/AT212121/url/20d1594fbd7e93d1e236140a1aed369dafa31330/Data%204.csv'\n",
    "# data = pd.read_csv(url)\n",
    "\n",
    "# csvData4 = pd.DataFrame(data)\n",
    "# data.columns = ['sentence', 'sentiment']\n",
    "\n",
    "# #Count number data \n",
    "# csvData4['sentiment'].value_counts()\n",
    "# csvData4.head()"
   ]
  },
  {
   "cell_type": "code",
   "execution_count": 11,
   "id": "36e91331",
   "metadata": {},
   "outputs": [],
   "source": [
    "# # Fifth individual words\n",
    "# url = 'https://raw.githubusercontent.com/AT212121/url/20d1594fbd7e93d1e236140a1aed369dafa31330/Data%205.csv'\n",
    "# data = pd.read_csv(url)\n",
    "\n",
    "# csvData5 = pd.DataFrame(data)\n",
    "# data.columns = ['sentence', 'sentiment']\n",
    "\n",
    "# #Count number data \n",
    "# csvData5['sentiment'].value_counts()\n",
    "# csvData5.head()"
   ]
  },
  {
   "cell_type": "code",
   "execution_count": null,
   "id": "2b01139f",
   "metadata": {},
   "outputs": [],
   "source": []
  },
  {
   "cell_type": "code",
   "execution_count": 12,
   "id": "ddabb67e",
   "metadata": {},
   "outputs": [],
   "source": [
    "# To retrieve the information from the particular website\n",
    "# Retrieve the positive sentiment english words\n",
    "pos_URL = \"https://ptrckprry.com/course/ssd/data/positive-words.txt\"\n",
    "pos_page = requests.get(pos_URL)\n",
    "\n",
    "\n",
    "povWordsList = extractWord(pos_page)\n",
    "\n",
    "#Stemming the text\n",
    "povWordsList = listToDf(povWordsList, 'positive')\n",
    "# print(povWordsList.head())"
   ]
  },
  {
   "cell_type": "code",
   "execution_count": 13,
   "id": "0ae21c76",
   "metadata": {},
   "outputs": [],
   "source": [
    "# To retrieve the information from the particular website\n",
    "# Retrieve the negative sentiment english words\n",
    "neg_URL = \"https://ptrckprry.com/course/ssd/data/negative-words.txt\"\n",
    "neg_page = requests.get(neg_URL)\n",
    "\n",
    "negWordsList = extractWord(neg_page)\n",
    "\n",
    "#Stemming the text\n",
    "negWordsList = listToDf(negWordsList, 'negative')\n",
    "# print(negWordsList.head())"
   ]
  },
  {
   "cell_type": "markdown",
   "id": "67214452",
   "metadata": {},
   "source": [
    "# Combination of Data Frame (Chow Weng Yong)"
   ]
  },
  {
   "cell_type": "code",
   "execution_count": 14,
   "id": "82d6a64b",
   "metadata": {},
   "outputs": [
    {
     "name": "stdout",
     "output_type": "stream",
     "text": [
      "The length of the whole dataset 37061\n"
     ]
    }
   ],
   "source": [
    "#combine the both positive and negative words\n",
    "frame = [povDf, negDf, csvData, povWordsList, negWordsList, csvData2, csvData3]\n",
    "povNneg = pd.concat(frame)\n",
    "\n",
    "#shuffle the data frame\n",
    "povNneg = povNneg.sample(frac = 1)\n",
    "print(\"The length of the whole dataset\", len(povNneg))\n",
    "# print(povNneg.head(10))"
   ]
  },
  {
   "cell_type": "markdown",
   "id": "70e01614",
   "metadata": {},
   "source": [
    "# Data Preprocessing (Chow Weng Yong)"
   ]
  },
  {
   "cell_type": "code",
   "execution_count": 15,
   "id": "5f732fe1",
   "metadata": {},
   "outputs": [],
   "source": [
    "# the number of each positive and negative label\n",
    "# povNneg['sentiment'].value_counts()"
   ]
  },
  {
   "cell_type": "code",
   "execution_count": 16,
   "id": "118eb4e2",
   "metadata": {},
   "outputs": [],
   "source": [
    "# Function for removing punctuation\n",
    "def remove_punctuation(text):\n",
    "    punctuationfree = \"\".join([i for i in text if i not in string.punctuation])\n",
    "    return punctuationfree\n",
    "\n",
    "# Function for removing numbers\n",
    "def remove_number(text):\n",
    "    numberFree = ''.join(i for i in text if not i.isdigit())\n",
    "    return numberFree\n",
    "\n",
    "# Function for removing stopwords from tokenized columns \n",
    "def remove_stopwords(text):\n",
    "    # Stop words we using\n",
    "    stopwords = nltk.corpus.stopwords.words('english')\n",
    "    new_Stop = 'br'\n",
    "    stopwords.extend(new_Stop)\n",
    "    output= [i for i in text if i not in stopwords]\n",
    "    return output\n",
    "\n",
    "# Function for lemmatization\n",
    "def lemmatizerFunction(text):\n",
    "    #object for Lemmatization\n",
    "    lemmatizer = WordNetLemmatizer()\n",
    "\n",
    "    lemm_text = [lemmatizer.lemmatize(word) for word in text]\n",
    "    return lemm_text\n",
    "\n",
    "# Function for tokenization\n",
    "def tokenization(text):\n",
    "    tokens = nltk.word_tokenize(text)\n",
    "    return tokens"
   ]
  },
  {
   "cell_type": "code",
   "execution_count": 17,
   "id": "55775652",
   "metadata": {},
   "outputs": [],
   "source": [
    "# Storing the sentence without punctuation in another column (clean_sentence)\n",
    "povNneg['clean_sentence']= povNneg['sentence'].apply(lambda x:remove_punctuation(x))\n",
    "\n",
    "# Removing numbers from clean_sentence\n",
    "povNneg['clean_sentence']= povNneg['clean_sentence'].apply(lambda x:remove_number(x))\n",
    "\n",
    "# Convert all the element in (clean_sentence) to lower case\n",
    "povNneg['clean_sentence'] = povNneg['clean_sentence'].apply(lambda x: x.lower())\n",
    "\n",
    "# Storing the tokenized clean_sentence into another column(tokenized)\n",
    "povNneg['tokenized'] = povNneg['clean_sentence'].apply(lambda x: tokenization(x))\n",
    "\n",
    "# Removing the stop words from tokenized columns\n",
    "povNneg['tokenized'] = povNneg['tokenized'].apply(lambda x:remove_stopwords(x))\n",
    "\n",
    "# Lemmatizing texts\n",
    "povNneg['tokenized'] = povNneg['tokenized'].apply(lambda x:lemmatizerFunction(x))"
   ]
  },
  {
   "cell_type": "code",
   "execution_count": 18,
   "id": "80af1511",
   "metadata": {},
   "outputs": [],
   "source": [
    "povNneg['clean_sentence'] = povNneg['tokenized'].apply(lambda x:\" \".join(x))"
   ]
  },
  {
   "cell_type": "code",
   "execution_count": 19,
   "id": "1c1e63b5",
   "metadata": {
    "scrolled": true
   },
   "outputs": [
    {
     "name": "stdout",
     "output_type": "stream",
     "text": [
      "                                               sentence sentiment  \\\n",
      "4280                                           tortured  negative   \n",
      "3113                                            onerous  negative   \n",
      "906   A clever script from the late SEBASTIAN JAPRIS...  positive   \n",
      "5861  Richard Dreyfuss is, indeed, in this flick, bu...  negative   \n",
      "4866  I know it is fashionable now to hate this movi...  positive   \n",
      "\n",
      "                                         clean_sentence  \\\n",
      "4280                                           tortured   \n",
      "3113                                            onerous   \n",
      "906   clever script late sebastian japrisot smart pe...   \n",
      "5861  richard dreyfus indeed flick rather small part...   \n",
      "4866  know fashionable hate movie seen hundred spook...   \n",
      "\n",
      "                                              tokenized  \n",
      "4280                                         [tortured]  \n",
      "3113                                          [onerous]  \n",
      "906   [clever, script, late, sebastian, japrisot, sm...  \n",
      "5861  [richard, dreyfus, indeed, flick, rather, smal...  \n",
      "4866  [know, fashionable, hate, movie, seen, hundred...  \n"
     ]
    }
   ],
   "source": [
    "print(povNneg.head())"
   ]
  },
  {
   "cell_type": "code",
   "execution_count": 26,
   "id": "c9fd6f0b",
   "metadata": {},
   "outputs": [
    {
     "name": "stdout",
     "output_type": "stream",
     "text": [
      "file\n"
     ]
    }
   ],
   "source": [
    "wnl = WordNetLemmatizer()\n",
    "print(wnl.lemmatize(\"files\"))"
   ]
  },
  {
   "cell_type": "markdown",
   "id": "eb966d04",
   "metadata": {},
   "source": [
    "# Long Short Term Memory (Chow Weng Yong)"
   ]
  },
  {
   "cell_type": "code",
   "execution_count": 26,
   "id": "ac99a09b",
   "metadata": {},
   "outputs": [],
   "source": [
    "#change the label value into numeric form then store in a variable\n",
    "sentiment_label = povNneg.sentiment.factorize()"
   ]
  },
  {
   "cell_type": "code",
   "execution_count": 27,
   "id": "1f281f7a",
   "metadata": {},
   "outputs": [],
   "source": [
    "#conver the column name tokenized to list\n",
    "listOfpovNneg = povNneg.tokenized.values\n",
    "# print(listOfpovNneg)"
   ]
  },
  {
   "cell_type": "code",
   "execution_count": 28,
   "id": "ff255d10",
   "metadata": {},
   "outputs": [],
   "source": [
    "tokenizer = Tokenizer()\n",
    "tokenizer.fit_on_texts(listOfpovNneg)\n",
    "# print(listOfpovNneg)"
   ]
  },
  {
   "cell_type": "code",
   "execution_count": 29,
   "id": "fe2978c1",
   "metadata": {},
   "outputs": [],
   "source": [
    "# Assigning the sequence to each word (same words will be assigning same value)\n",
    "encoded_docs = tokenizer.texts_to_sequences(listOfpovNneg)"
   ]
  },
  {
   "cell_type": "code",
   "execution_count": 30,
   "id": "c01d4456",
   "metadata": {},
   "outputs": [],
   "source": [
    "#Convert the sequence into 2D-array\n",
    "padded_sequence = pad_sequences(encoded_docs)"
   ]
  },
  {
   "cell_type": "code",
   "execution_count": 33,
   "id": "cf70d344",
   "metadata": {},
   "outputs": [
    {
     "name": "stdout",
     "output_type": "stream",
     "text": [
      "(37059, 947)\n"
     ]
    }
   ],
   "source": [
    "print(padded_sequence.shape)"
   ]
  },
  {
   "cell_type": "code",
   "execution_count": 31,
   "id": "ed0943a5",
   "metadata": {},
   "outputs": [
    {
     "name": "stdout",
     "output_type": "stream",
     "text": [
      "Model: \"sequential\"\n",
      "_________________________________________________________________\n",
      " Layer (type)                Output Shape              Param #   \n",
      "=================================================================\n",
      " embedding (Embedding)       (None, None, 32)          3988864   \n",
      "                                                                 \n",
      " spatial_dropout1d (SpatialD  (None, None, 32)         0         \n",
      " ropout1D)                                                       \n",
      "                                                                 \n",
      " lstm (LSTM)                 (None, 50)                16600     \n",
      "                                                                 \n",
      " dropout (Dropout)           (None, 50)                0         \n",
      "                                                                 \n",
      " dense (Dense)               (None, 1)                 51        \n",
      "                                                                 \n",
      "=================================================================\n",
      "Total params: 4,005,515\n",
      "Trainable params: 4,005,515\n",
      "Non-trainable params: 0\n",
      "_________________________________________________________________\n",
      "None\n"
     ]
    }
   ],
   "source": [
    "# dropout value is to prevent this learning model overfitting\n",
    "embedding_vector_length = 32\n",
    "vocab_size = len(tokenizer.word_index) + 1\n",
    "model = Sequential()\n",
    "model.add(Embedding(vocab_size, embedding_vector_length))\n",
    "model.add(SpatialDropout1D(0.25))\n",
    "model.add(LSTM(50, dropout=0.5, recurrent_dropout=0.5))\n",
    "model.add(Dropout(0.2))\n",
    "model.add(Dense(1, activation='sigmoid'))\n",
    "model.compile(loss='binary_crossentropy',optimizer='adam', metrics=['accuracy'])\n",
    "print(model.summary())"
   ]
  },
  {
   "cell_type": "code",
   "execution_count": 52,
   "id": "b5eb1eea",
   "metadata": {},
   "outputs": [
    {
     "name": "stdout",
     "output_type": "stream",
     "text": [
      "Epoch 1/5\n",
      "927/927 [==============================] - 789s 846ms/step - loss: 0.4824 - accuracy: 0.7716 - val_loss: 0.3750 - val_accuracy: 0.8444\n",
      "Epoch 2/5\n",
      "927/927 [==============================] - 780s 841ms/step - loss: 0.3028 - accuracy: 0.8719 - val_loss: 0.3333 - val_accuracy: 0.8593\n",
      "Epoch 3/5\n",
      "927/927 [==============================] - 783s 845ms/step - loss: 0.2136 - accuracy: 0.9115 - val_loss: 0.3727 - val_accuracy: 0.8559\n",
      "Epoch 4/5\n",
      "927/927 [==============================] - 719s 775ms/step - loss: 0.1528 - accuracy: 0.9411 - val_loss: 0.4301 - val_accuracy: 0.8484\n",
      "Epoch 5/5\n",
      "927/927 [==============================] - 777s 838ms/step - loss: 0.1101 - accuracy: 0.9608 - val_loss: 0.4801 - val_accuracy: 0.8381\n"
     ]
    }
   ],
   "source": [
    "#validation_split is splitting the data to use 20% for validation\n",
    "history = model.fit(padded_sequence,sentiment_label[0],validation_split=0.2, epochs=5, batch_size=32)"
   ]
  },
  {
   "cell_type": "code",
   "execution_count": 53,
   "id": "5f1ae233",
   "metadata": {},
   "outputs": [
    {
     "data": {
      "image/png": "[encoded data removed]",
      "text/plain": [
       "<Figure size 432x288 with 1 Axes>"
      ]
     },
     "metadata": {
      "needs_background": "light"
     },
     "output_type": "display_data"
    }
   ],
   "source": [
    "plt.plot(history.history['accuracy'], label='acc')\n",
    "plt.plot(history.history['val_accuracy'], label='val_acc')\n",
    "plt.legend()\n",
    "plt.show()"
   ]
  },
  {
   "cell_type": "code",
   "execution_count": 54,
   "id": "b8cb489f",
   "metadata": {},
   "outputs": [
    {
     "data": {
      "image/png": "[encoded data removed]",
      "text/plain": [
       "<Figure size 432x288 with 1 Axes>"
      ]
     },
     "metadata": {
      "needs_background": "light"
     },
     "output_type": "display_data"
    }
   ],
   "source": [
    "plt.plot(history.history['loss'], label='loss')\n",
    "plt.plot(history.history['val_loss'], label='val_loss')\n",
    "plt.legend()\n",
    "plt.show()"
   ]
  },
  {
   "cell_type": "code",
   "execution_count": 69,
   "id": "eab57040",
   "metadata": {},
   "outputs": [
    {
     "name": "stdout",
     "output_type": "stream",
     "text": [
      "1/1 [==============================] - 0s 353ms/step\n",
      "Predicted label:  negative\n",
      "1/1 [==============================] - 0s 28ms/step\n",
      "Predicted label:  negative\n"
     ]
    }
   ],
   "source": [
    "def predict_sentiment(text):\n",
    "    tw = tokenizer.texts_to_sequences([text])\n",
    "    tw = pad_sequences(tw)\n",
    "    prediction = int(model.predict(tw).round().item())\n",
    "    print(\"Predicted label: \", sentiment_label[1][prediction])\n",
    "test_sentence1 = \"i like playing basketball\"\n",
    "predict_sentiment(test_sentence1)\n",
    "test_sentence2 = \"i hate playing basketball\"\n",
    "predict_sentiment(test_sentence2)"
   ]
  },
  {
   "cell_type": "markdown",
   "id": "9ab5fa9c",
   "metadata": {},
   "source": [
    "# Splitting the data and vectorizing the data"
   ]
  },
  {
   "cell_type": "code",
   "execution_count": 22,
   "id": "d696ecba",
   "metadata": {},
   "outputs": [],
   "source": [
    "# Inputs to be fid into the model\n",
    "X = povNneg.clean_sentence \n",
    "\n",
    "# Output of the model\n",
    "povNneg['label'] = povNneg['sentiment'].apply(lambda x: 1 if x=='positive' else 0)\n",
    "y = povNneg.label"
   ]
  },
  {
   "cell_type": "code",
   "execution_count": 23,
   "id": "ecc5c267",
   "metadata": {},
   "outputs": [],
   "source": [
    "#splitting the data to training set(80%) & testing set(20%)\n",
    "from sklearn.model_selection import train_test_split\n",
    "X_train, X_test, y_train, y_test = train_test_split(X, y, test_size=0.2, random_state=1)"
   ]
  },
  {
   "cell_type": "code",
   "execution_count": 24,
   "id": "50a6b46c",
   "metadata": {},
   "outputs": [],
   "source": [
    "tfidf = TfidfVectorizer(stop_words= 'english')\n",
    "\n",
    "# generate the learning model from X_train into tfidf model and assigning value to them\n",
    "X_train_tf = tfidf.fit_transform(X_train)\n",
    "\n",
    "# transforming the test data into the form of train data\n",
    "X_test_tf = tfidf.transform(X_test) "
   ]
  },
  {
   "cell_type": "markdown",
   "id": "63775756",
   "metadata": {},
   "source": [
    "# Logistic regression Model (Ainisha)"
   ]
  },
  {
   "cell_type": "code",
   "execution_count": 45,
   "id": "2367977b",
   "metadata": {},
   "outputs": [
    {
     "name": "stdout",
     "output_type": "stream",
     "text": [
      "Accuracy Score: 85.3211%\n"
     ]
    }
   ],
   "source": [
    "# logistic regression model\n",
    "lr = LogisticRegression()\n",
    "\n",
    "# Train the model\n",
    "lr.fit(X_train_tf, y_train)\n",
    "\n",
    "# Start training Logistic regression model\n",
    "y_pred = lr.predict(X_test_tf)\n",
    "print('Accuracy Score: ' , round(metrics.accuracy_score(y_test,y_pred)*100, 4),'%',sep='')"
   ]
  },
  {
   "cell_type": "code",
   "execution_count": 46,
   "id": "199b846c",
   "metadata": {},
   "outputs": [
    {
     "data": {
      "text/plain": [
       "<AxesSubplot:>"
      ]
     },
     "execution_count": 46,
     "metadata": {},
     "output_type": "execute_result"
    },
    {
     "data": {
      "image/png": "[encoded data removed]",
      "text/plain": [
       "<Figure size 432x288 with 2 Axes>"
      ]
     },
     "metadata": {
      "needs_background": "light"
     },
     "output_type": "display_data"
    }
   ],
   "source": [
    "cm = confusion_matrix(y_test, y_pred)\n",
    "sns.heatmap(cm, xticklabels=['predicted_Pos', 'predicted_Neg'], yticklabels=['actual_Pos', 'actual_Neg'], \n",
    "            annot=True, fmt='d', annot_kws={'fontsize':20}, cmap=\"YlGnBu\")"
   ]
  },
  {
   "cell_type": "markdown",
   "id": "a4496b6d",
   "metadata": {},
   "source": [
    "# K-Nearest Neighbors（Chow Weng Yong)"
   ]
  },
  {
   "cell_type": "code",
   "execution_count": 47,
   "id": "237f12f2",
   "metadata": {},
   "outputs": [],
   "source": [
    "# Find the best n(neighbors value)\n",
    "# error_rate = []\n",
    "\n",
    "# for i in range(85, 95):\n",
    "#     knn = KNeighborsClassifier(n_neighbors=i)\n",
    "#     knn.fit(X_train_cv, y_train)\n",
    "#     pred = knn.predict(X_test_cv)\n",
    "#     error_rate.append(np.mean(pred != y_test))\n",
    "\n",
    "# plt.figure(figsize=(15,10))\n",
    "# plt.plot(range(85, 95),error_rate, marker='o', markersize=9)"
   ]
  },
  {
   "cell_type": "code",
   "execution_count": 48,
   "id": "ca6d06ef",
   "metadata": {},
   "outputs": [],
   "source": [
    "# Alternative way to find the best n(neighbors value)\n",
    "# Algorithm used(sqrt(Total number of training_data))\n",
    "bestNValue = round(sqrt(X_train_tf.shape[0]))"
   ]
  },
  {
   "cell_type": "code",
   "execution_count": 49,
   "id": "b5697fc1",
   "metadata": {},
   "outputs": [
    {
     "name": "stdout",
     "output_type": "stream",
     "text": [
      "\n",
      "K Nearest Neighbors value : 172\n",
      "Accuracy Score: 72.558%\n"
     ]
    }
   ],
   "source": [
    "#Accuracy using KNN Model\n",
    "KNN = KNeighborsClassifier(n_neighbors = bestNValue)\n",
    "KNN.fit(X_train_tf, y_train)\n",
    "y_pred = KNN.predict(X_test_tf)\n",
    "print('\\nK Nearest Neighbors value :', bestNValue)\n",
    "print('Accuracy Score: ', round(metrics.accuracy_score(y_test,y_pred)*100, 4),'%',sep='')"
   ]
  },
  {
   "cell_type": "code",
   "execution_count": 50,
   "id": "23e12aee",
   "metadata": {},
   "outputs": [
    {
     "data": {
      "text/plain": [
       "<AxesSubplot:>"
      ]
     },
     "execution_count": 50,
     "metadata": {},
     "output_type": "execute_result"
    },
    {
     "data": {
      "image/png": "[encoded data removed]",
      "text/plain": [
       "<Figure size 432x288 with 2 Axes>"
      ]
     },
     "metadata": {
      "needs_background": "light"
     },
     "output_type": "display_data"
    }
   ],
   "source": [
    "cm = confusion_matrix(y_test, y_pred)\n",
    "sns.heatmap(cm, xticklabels=['predicted_Pos', 'predicted_Neg'], yticklabels=['actual_Pos', 'actual_Neg'], \n",
    "            annot=True, fmt='d', annot_kws={'fontsize':20}, cmap=\"YlGnBu\")"
   ]
  },
  {
   "cell_type": "code",
   "execution_count": null,
   "id": "f07fe89c",
   "metadata": {},
   "outputs": [],
   "source": []
  },
  {
   "cell_type": "markdown",
   "id": "0c460f9f",
   "metadata": {},
   "source": [
    "# Support Vector Machine (Ainisha Ting)"
   ]
  },
  {
   "cell_type": "code",
   "execution_count": 51,
   "id": "c0edeaaf",
   "metadata": {},
   "outputs": [
    {
     "name": "stdout",
     "output_type": "stream",
     "text": [
      "\n",
      "Support Vector Machine\n",
      "Accuracy Score: 85.0513%\n"
     ]
    }
   ],
   "source": [
    "#Model for Support Vector Machine\n",
    "SVM = LinearSVC()\n",
    "SVM.fit(X_train_tf, y_train)\n",
    "y_pred = SVM.predict(X_test_tf)\n",
    "print('\\nSupport Vector Machine')\n",
    "print('Accuracy Score: ',round(metrics.accuracy_score(y_test,y_pred)*100, 4),'%',sep='')"
   ]
  },
  {
   "cell_type": "code",
   "execution_count": 52,
   "id": "6a68be8c",
   "metadata": {},
   "outputs": [
    {
     "data": {
      "text/plain": [
       "<AxesSubplot:>"
      ]
     },
     "execution_count": 52,
     "metadata": {},
     "output_type": "execute_result"
    },
    {
     "data": {
      "image/png": "[encoded data removed]",
      "text/plain": [
       "<Figure size 432x288 with 2 Axes>"
      ]
     },
     "metadata": {
      "needs_background": "light"
     },
     "output_type": "display_data"
    }
   ],
   "source": [
    "cm = confusion_matrix(y_test, y_pred)\n",
    "sns.heatmap(cm, xticklabels=['predicted_Pos', 'predicted_Neg'], yticklabels=['actual_Pos', 'actual_Neg'], \n",
    "            annot=True, fmt='d', annot_kws={'fontsize':20}, cmap=\"YlGnBu\")"
   ]
  },
  {
   "cell_type": "markdown",
   "id": "74cc633d",
   "metadata": {},
   "source": [
    "# Naive Bayes Classification （Ainisha Ting)"
   ]
  },
  {
   "cell_type": "code",
   "execution_count": 53,
   "id": "df1a02d3",
   "metadata": {},
   "outputs": [
    {
     "name": "stdout",
     "output_type": "stream",
     "text": [
      "Naive Bayes\n",
      "Accuracy Score: 82.987%\n"
     ]
    }
   ],
   "source": [
    "#Model For Naive Bayes\n",
    "NB = MultinomialNB()\n",
    "NB.fit(X_train_tf, y_train)\n",
    "y_pred = NB.predict(X_test_tf)\n",
    "print('Naive Bayes')\n",
    "print('Accuracy Score: ',round(metrics.accuracy_score(y_test,y_pred)*100, 4),'%',sep='')"
   ]
  },
  {
   "cell_type": "code",
   "execution_count": 54,
   "id": "434d6e0c",
   "metadata": {},
   "outputs": [
    {
     "data": {
      "text/plain": [
       "<AxesSubplot:>"
      ]
     },
     "execution_count": 54,
     "metadata": {},
     "output_type": "execute_result"
    },
    {
     "data": {
      "image/png": "[encoded data removed]",
      "text/plain": [
       "<Figure size 432x288 with 2 Axes>"
      ]
     },
     "metadata": {
      "needs_background": "light"
     },
     "output_type": "display_data"
    }
   ],
   "source": [
    "cm = confusion_matrix(y_test, y_pred)\n",
    "sns.heatmap(cm, xticklabels=['predicted_Pos', 'predicted_Neg'], yticklabels=['actual_Pos', 'actual_Neg'], \n",
    "            annot=True, fmt='d', annot_kws={'fontsize':20}, cmap=\"YlGnBu\")"
   ]
  },
  {
   "cell_type": "markdown",
   "id": "b001bf98",
   "metadata": {},
   "source": [
    "# Accepting User Input （Chow Weng Yong & Ainisha)"
   ]
  },
  {
   "cell_type": "code",
   "execution_count": 20,
   "id": "4062b5ee",
   "metadata": {},
   "outputs": [],
   "source": [
    "bestKNNValue = round(sqrt(len(X)))"
   ]
  },
  {
   "cell_type": "code",
   "execution_count": 25,
   "id": "d2d3637d",
   "metadata": {},
   "outputs": [
    {
     "data": {
      "text/plain": [
       "MultinomialNB()"
      ]
     },
     "execution_count": 25,
     "metadata": {},
     "output_type": "execute_result"
    }
   ],
   "source": [
    "userTestingVec = TfidfVectorizer(stop_words='english', ngram_range = (1,1), max_df = .80, min_df = 5)\n",
    "userTestingVec.fit(X)\n",
    "X_tested_data = userTestingVec.transform(X)\n",
    "\n",
    "# Define a model (Logistic Regression)\n",
    "Lr_model = LogisticRegression()\n",
    "Lr_model.fit(X_tested_data, y)\n",
    "\n",
    "# Define a model (K-Nearest Neighbors)\n",
    "Knn_model = KNeighborsClassifier(n_neighbors = bestKNNValue)\n",
    "Knn_model.fit(X_tested_data, y)\n",
    "\n",
    "# Define a model (Support Vector Machine)\n",
    "Svm_model = LinearSVC()\n",
    "Svm_model.fit(X_tested_data, y)\n",
    "\n",
    "# Define a model (Naive Bayes Classification)\n",
    "Nb_model = MultinomialNB()\n",
    "Nb_model.fit(X_tested_data, y)"
   ]
  },
  {
   "cell_type": "code",
   "execution_count": 26,
   "id": "dd1cfc88",
   "metadata": {},
   "outputs": [
    {
     "name": "stdout",
     "output_type": "stream",
     "text": [
      "What is your thought : i love basketball\n",
      "You probably having a  Positive thoughts.\n",
      "You probably having a  Positive thoughts.\n",
      "You probably having a  Positive thoughts.\n",
      "You probably having a  Negative thoughts.\n"
     ]
    }
   ],
   "source": [
    "#user input\n",
    "text = input(\"What is your thought : \")\n",
    "text = remove_punctuation(text)\n",
    "text = remove_number(text)\n",
    "text = text.lower()\n",
    "text = remove_number(text)\n",
    "\n",
    "#test the processed data\n",
    "test = []\n",
    "test.append(text)\n",
    "test_tfidf = userTestingVec.transform(test)\n",
    "predLabelLr = Lr_model.predict(test_tfidf)\n",
    "predLabelKnn = Knn_model.predict(test_tfidf)\n",
    "predLabelSvm = Svm_model.predict(test_tfidf)\n",
    "predLabelNb = Nb_model.predict(test_tfidf)\n",
    "tags = ['Negative','Positive']\n",
    "# Display Output\n",
    "print('You probably having a ',tags[predLabelLr[0]], 'thoughts.')\n",
    "print('You probably having a ',tags[predLabelKnn[0]], 'thoughts.')\n",
    "print('You probably having a ',tags[predLabelSvm[0]], 'thoughts.')\n",
    "print('You probably having a ',tags[predLabelNb[0]], 'thoughts.')"
   ]
  },
  {
   "cell_type": "code",
   "execution_count": 63,
   "id": "31e554ea",
   "metadata": {},
   "outputs": [
    {
     "name": "stderr",
     "output_type": "stream",
     "text": [
      "Exception in Tkinter callback\n",
      "Traceback (most recent call last):\n",
      "  File \"F:\\Anaconda\\lib\\tkinter\\__init__.py\", line 1892, in __call__\n",
      "    return self.func(*args)\n",
      "  File \"C:\\Users\\yangz\\AppData\\Local\\Temp\\ipykernel_14628\\1763564469.py\", line 4, in display_text\n",
      "    string = newInput.get()\n",
      "TypeError: get() missing 1 required positional argument: 'index1'\n"
     ]
    }
   ],
   "source": [
    "def display_text():\n",
    "    # Retrieve the input from text box\n",
    "    global newInput\n",
    "    string = newInput.get()\n",
    "\n",
    "    # Preprocess the input\n",
    "    text = remove_punctuation(string)\n",
    "    text = remove_number(text)\n",
    "    text = text.lower()\n",
    "    text = tokenization(text)\n",
    "    text = remove_stopwords(text)\n",
    "    text = lemmatizerFunction(text)\n",
    "    text = \" \".join(text)\n",
    "    \n",
    "    # Test the processed data\n",
    "    test = []\n",
    "    test.append(text)\n",
    "    test_tfidf = userTestingVec.transform(test)\n",
    "    predLabel = Lr_model.predict(test_tfidf)\n",
    "    string = \"You probably having a \" + tags[predLabel[0]] + \" thoughts.\"\n",
    "    output.configure(text = string)\n",
    "\n",
    "# Create an instance of Tkinter frame\n",
    "win = Tk()\n",
    "\n",
    "# Set the geometry of Tkinter frame\n",
    "win.geometry(\"750x400\")\n",
    "win.title(\"Sentiment analysis\")\n",
    "Label(win, text=\"Sentiment Analysis\", font=('Helvetica 16 bold')).pack(pady=5)\n",
    "Label(win, text=\"What is your thoughts ? \", font=('Helvetica 12')).pack(pady=10)\n",
    "newInput = Entry(win, width = 35,font=(\"Times 14\"))\n",
    "newInput.pack(pady=10)\n",
    "\n",
    "# Create a button in the main Window to open the popup\n",
    "ttk.Button(win, text= \"Test\", command = display_text).pack()\n",
    "\n",
    "# Output for result\n",
    "output = Label(win, text=\"\", font=(\"Courier 14 bold\"))\n",
    "output.pack(pady=20)\n",
    "\n",
    "win.mainloop()"
   ]
  },
  {
   "cell_type": "code",
   "execution_count": null,
   "id": "aa7dc8be",
   "metadata": {},
   "outputs": [],
   "source": [
    "getsizeof"
   ]
  }
 ],
 "metadata": {
  "kernelspec": {
   "display_name": "Python 3 (ipykernel)",
   "language": "python",
   "name": "python3"
  },
  "language_info": {
   "codemirror_mode": {
    "name": "ipython",
    "version": 3
   },
   "file_extension": ".py",
   "mimetype": "text/x-python",
   "name": "python",
   "nbconvert_exporter": "python",
   "pygments_lexer": "ipython3",
   "version": "3.9.12"
  }
 },
 "nbformat": 4,
 "nbformat_minor": 5
}
